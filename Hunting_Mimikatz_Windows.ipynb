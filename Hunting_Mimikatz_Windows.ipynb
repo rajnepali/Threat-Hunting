{
 "cells": [
  {
   "cell_type": "markdown",
   "metadata": {},
   "source": [
    "# Hunting for credential dumping using mimikatz in windows"
   ]
  },
  {
   "cell_type": "code",
   "execution_count": 1,
   "metadata": {},
   "outputs": [],
   "source": [
    "import pandas as pd\n",
    "import numpy as np\n",
    "import re"
   ]
  },
  {
   "cell_type": "code",
   "execution_count": 2,
   "metadata": {},
   "outputs": [],
   "source": [
    "df = pd.read_csv(\"/home/thedoc/Desktop/Test_logs.csv\",index_col=False)"
   ]
  },
  {
   "cell_type": "code",
   "execution_count": 3,
   "metadata": {},
   "outputs": [
    {
     "data": {
      "text/html": [
       "<div>\n",
       "<style scoped>\n",
       "    .dataframe tbody tr th:only-of-type {\n",
       "        vertical-align: middle;\n",
       "    }\n",
       "\n",
       "    .dataframe tbody tr th {\n",
       "        vertical-align: top;\n",
       "    }\n",
       "\n",
       "    .dataframe thead th {\n",
       "        text-align: right;\n",
       "    }\n",
       "</style>\n",
       "<table border=\"1\" class=\"dataframe\">\n",
       "  <thead>\n",
       "    <tr style=\"text-align: right;\">\n",
       "      <th></th>\n",
       "      <th>Level</th>\n",
       "      <th>Date and Time</th>\n",
       "      <th>Source</th>\n",
       "      <th>Event ID</th>\n",
       "      <th>Task Category</th>\n",
       "      <th>Values</th>\n",
       "    </tr>\n",
       "  </thead>\n",
       "  <tbody>\n",
       "    <tr>\n",
       "      <th>0</th>\n",
       "      <td>Information</td>\n",
       "      <td>4/2/2020 10:15:41 PM</td>\n",
       "      <td>Microsoft-Windows-Sysmon</td>\n",
       "      <td>10</td>\n",
       "      <td>Process accessed (rule: ProcessAccess)</td>\n",
       "      <td>Process accessed:\\nRuleName: \\nUtcTime: 2020-0...</td>\n",
       "    </tr>\n",
       "    <tr>\n",
       "      <th>1</th>\n",
       "      <td>Information</td>\n",
       "      <td>4/2/2020 10:15:21 PM</td>\n",
       "      <td>Microsoft-Windows-Sysmon</td>\n",
       "      <td>10</td>\n",
       "      <td>Process accessed (rule: ProcessAccess)</td>\n",
       "      <td>Process accessed:\\nRuleName: \\nUtcTime: 2020-0...</td>\n",
       "    </tr>\n",
       "    <tr>\n",
       "      <th>2</th>\n",
       "      <td>Information</td>\n",
       "      <td>4/2/2020 10:15:01 PM</td>\n",
       "      <td>Microsoft-Windows-Sysmon</td>\n",
       "      <td>10</td>\n",
       "      <td>Process accessed (rule: ProcessAccess)</td>\n",
       "      <td>Process accessed:\\nRuleName: \\nUtcTime: 2020-0...</td>\n",
       "    </tr>\n",
       "    <tr>\n",
       "      <th>3</th>\n",
       "      <td>Information</td>\n",
       "      <td>4/2/2020 10:14:59 PM</td>\n",
       "      <td>Microsoft-Windows-Sysmon</td>\n",
       "      <td>1</td>\n",
       "      <td>Process Create (rule: ProcessCreate)</td>\n",
       "      <td>Process Create:\\nRuleName: \\nUtcTime: 2020-04-...</td>\n",
       "    </tr>\n",
       "    <tr>\n",
       "      <th>4</th>\n",
       "      <td>Information</td>\n",
       "      <td>4/2/2020 10:14:57 PM</td>\n",
       "      <td>Microsoft-Windows-Sysmon</td>\n",
       "      <td>8</td>\n",
       "      <td>CreateRemoteThread detected (rule: CreateRemot...</td>\n",
       "      <td>CreateRemoteThread detected:\\nRuleName: \\nUtcT...</td>\n",
       "    </tr>\n",
       "    <tr>\n",
       "      <th>...</th>\n",
       "      <td>...</td>\n",
       "      <td>...</td>\n",
       "      <td>...</td>\n",
       "      <td>...</td>\n",
       "      <td>...</td>\n",
       "      <td>...</td>\n",
       "    </tr>\n",
       "    <tr>\n",
       "      <th>22167</th>\n",
       "      <td>Information</td>\n",
       "      <td>2/13/2020 12:42:23 PM</td>\n",
       "      <td>Microsoft-Windows-Sysmon</td>\n",
       "      <td>5</td>\n",
       "      <td>Process terminated (rule: ProcessTerminate)</td>\n",
       "      <td>Process terminated:\\nRuleName: \\nUtcTime: 2020...</td>\n",
       "    </tr>\n",
       "    <tr>\n",
       "      <th>22168</th>\n",
       "      <td>Information</td>\n",
       "      <td>2/13/2020 12:42:23 PM</td>\n",
       "      <td>Microsoft-Windows-Sysmon</td>\n",
       "      <td>1</td>\n",
       "      <td>Process Create (rule: ProcessCreate)</td>\n",
       "      <td>Process Create:\\nRuleName: \\nUtcTime: 2020-02-...</td>\n",
       "    </tr>\n",
       "    <tr>\n",
       "      <th>22169</th>\n",
       "      <td>Information</td>\n",
       "      <td>2/13/2020 12:42:23 PM</td>\n",
       "      <td>Microsoft-Windows-Sysmon</td>\n",
       "      <td>1</td>\n",
       "      <td>Process Create (rule: ProcessCreate)</td>\n",
       "      <td>Process Create:\\nRuleName: \\nUtcTime: 2020-02-...</td>\n",
       "    </tr>\n",
       "    <tr>\n",
       "      <th>22170</th>\n",
       "      <td>Information</td>\n",
       "      <td>2/13/2020 12:42:23 PM</td>\n",
       "      <td>Microsoft-Windows-Sysmon</td>\n",
       "      <td>4</td>\n",
       "      <td>Sysmon service state changed</td>\n",
       "      <td>Sysmon service state changed:\\nUtcTime: 2020-0...</td>\n",
       "    </tr>\n",
       "    <tr>\n",
       "      <th>22171</th>\n",
       "      <td>Information</td>\n",
       "      <td>2/13/2020 12:42:22 PM</td>\n",
       "      <td>Microsoft-Windows-Sysmon</td>\n",
       "      <td>16</td>\n",
       "      <td>Sysmon config state changed</td>\n",
       "      <td>Sysmon config state changed:\\nUtcTime: 2020-02...</td>\n",
       "    </tr>\n",
       "  </tbody>\n",
       "</table>\n",
       "<p>22172 rows × 6 columns</p>\n",
       "</div>"
      ],
      "text/plain": [
       "             Level          Date and Time                    Source  Event ID  \\\n",
       "0      Information   4/2/2020 10:15:41 PM  Microsoft-Windows-Sysmon        10   \n",
       "1      Information   4/2/2020 10:15:21 PM  Microsoft-Windows-Sysmon        10   \n",
       "2      Information   4/2/2020 10:15:01 PM  Microsoft-Windows-Sysmon        10   \n",
       "3      Information   4/2/2020 10:14:59 PM  Microsoft-Windows-Sysmon         1   \n",
       "4      Information   4/2/2020 10:14:57 PM  Microsoft-Windows-Sysmon         8   \n",
       "...            ...                    ...                       ...       ...   \n",
       "22167  Information  2/13/2020 12:42:23 PM  Microsoft-Windows-Sysmon         5   \n",
       "22168  Information  2/13/2020 12:42:23 PM  Microsoft-Windows-Sysmon         1   \n",
       "22169  Information  2/13/2020 12:42:23 PM  Microsoft-Windows-Sysmon         1   \n",
       "22170  Information  2/13/2020 12:42:23 PM  Microsoft-Windows-Sysmon         4   \n",
       "22171  Information  2/13/2020 12:42:22 PM  Microsoft-Windows-Sysmon        16   \n",
       "\n",
       "                                           Task Category  \\\n",
       "0                 Process accessed (rule: ProcessAccess)   \n",
       "1                 Process accessed (rule: ProcessAccess)   \n",
       "2                 Process accessed (rule: ProcessAccess)   \n",
       "3                   Process Create (rule: ProcessCreate)   \n",
       "4      CreateRemoteThread detected (rule: CreateRemot...   \n",
       "...                                                  ...   \n",
       "22167        Process terminated (rule: ProcessTerminate)   \n",
       "22168               Process Create (rule: ProcessCreate)   \n",
       "22169               Process Create (rule: ProcessCreate)   \n",
       "22170                       Sysmon service state changed   \n",
       "22171                        Sysmon config state changed   \n",
       "\n",
       "                                                  Values  \n",
       "0      Process accessed:\\nRuleName: \\nUtcTime: 2020-0...  \n",
       "1      Process accessed:\\nRuleName: \\nUtcTime: 2020-0...  \n",
       "2      Process accessed:\\nRuleName: \\nUtcTime: 2020-0...  \n",
       "3      Process Create:\\nRuleName: \\nUtcTime: 2020-04-...  \n",
       "4      CreateRemoteThread detected:\\nRuleName: \\nUtcT...  \n",
       "...                                                  ...  \n",
       "22167  Process terminated:\\nRuleName: \\nUtcTime: 2020...  \n",
       "22168  Process Create:\\nRuleName: \\nUtcTime: 2020-02-...  \n",
       "22169  Process Create:\\nRuleName: \\nUtcTime: 2020-02-...  \n",
       "22170  Sysmon service state changed:\\nUtcTime: 2020-0...  \n",
       "22171  Sysmon config state changed:\\nUtcTime: 2020-02...  \n",
       "\n",
       "[22172 rows x 6 columns]"
      ]
     },
     "execution_count": 3,
     "metadata": {},
     "output_type": "execute_result"
    }
   ],
   "source": [
    "df"
   ]
  },
  {
   "cell_type": "code",
   "execution_count": 4,
   "metadata": {},
   "outputs": [
    {
     "data": {
      "text/plain": [
       "Event ID\n",
       "1      3337\n",
       "2       114\n",
       "3      2242\n",
       "4         9\n",
       "5        73\n",
       "6        42\n",
       "8        15\n",
       "10     3752\n",
       "11     3359\n",
       "12      462\n",
       "13     2504\n",
       "16        2\n",
       "22     6259\n",
       "255       2\n",
       "dtype: int64"
      ]
     },
     "execution_count": 4,
     "metadata": {},
     "output_type": "execute_result"
    }
   ],
   "source": [
    "#Lets group by Event ID and see\n",
    "df.groupby('Event ID').size()"
   ]
  },
  {
   "cell_type": "markdown",
   "metadata": {},
   "source": [
    "# Lets hunt for mimikatz usage"
   ]
  },
  {
   "cell_type": "code",
   "execution_count": 5,
   "metadata": {},
   "outputs": [],
   "source": [
    "# Here we are looking for event ID=1, so lets use a filter\n",
    "filter1 = df['Event ID'] == 1\n",
    "proc_create = df[filter1]"
   ]
  },
  {
   "cell_type": "code",
   "execution_count": 6,
   "metadata": {},
   "outputs": [
    {
     "data": {
      "text/plain": [
       "Level                                                  Information\n",
       "Date and Time                                 4/2/2020 10:14:59 PM\n",
       "Source                                    Microsoft-Windows-Sysmon\n",
       "Event ID                                                         1\n",
       "Task Category                 Process Create (rule: ProcessCreate)\n",
       "Values           Process Create:\\nRuleName: \\nUtcTime: 2020-04-...\n",
       "Name: 3, dtype: object"
      ]
     },
     "execution_count": 6,
     "metadata": {},
     "output_type": "execute_result"
    }
   ],
   "source": [
    "proc_create.iloc[0]"
   ]
  },
  {
   "cell_type": "code",
   "execution_count": 7,
   "metadata": {},
   "outputs": [
    {
     "data": {
      "text/plain": [
       "'Process Create:\\nRuleName: \\nUtcTime: 2020-04-03 03:14:59.595\\nProcessGuid: {4ce97d7e-aa33-5e86-0000-0010b698ce01}\\nProcessId: 780\\nImage: C:\\\\Program Files\\\\WindowsApps\\\\Microsoft.MicrosoftOfficeHub_18.1910.1283.0_x64__8wekyb3d8bbwe\\\\LocalBridge.exe\\nFileVersion: 18.1910.1283.0\\nDescription: LocalBridge\\nProduct: LocalBridge\\nCompany: \\nOriginalFileName: LocalBridge.exe\\nCommandLine: \"C:\\\\Program Files\\\\WindowsApps\\\\Microsoft.MicrosoftOfficeHub_18.1910.1283.0_x64__8wekyb3d8bbwe\\\\LocalBridge.exe\" /InvokerPRAID: Microsoft.MicrosoftOfficeHub notifications\\nCurrentDirectory: C:\\\\Windows\\\\system32\\\\\\nUser: DESKTOP-1MBQ44E\\\\rajnepali\\nLogonGuid: {4ce97d7e-b6b4-5e83-0000-002067240500}\\nLogonId: 0x52467\\nTerminalSessionId: 1\\nIntegrityLevel: Medium\\nHashes: MD5=6CA89724D19DDB51BEF68F0ED25FE609,SHA256=7B302C043E7B0770E896C1630513FE2A38506E056E00608A9CB74A20FE10DC9F,IMPHASH=00000000000000000000000000000000\\nParentProcessGuid: {4ce97d7e-aa33-5e86-0000-0010ac83ce01}\\nParentProcessId: 7796\\nParentImage: C:\\\\Windows\\\\System32\\\\RuntimeBroker.exe\\nParentCommandLine: C:\\\\Windows\\\\System32\\\\RuntimeBroker.exe -Embedding'"
      ]
     },
     "execution_count": 7,
     "metadata": {},
     "output_type": "execute_result"
    }
   ],
   "source": [
    "# Since the dataset I am using is export from Event Viewer in CSV format\n",
    "# Looks like most of the data is put in the Values Field, lets explore\n",
    "proc_create.iloc[0]['Values']"
   ]
  },
  {
   "cell_type": "code",
   "execution_count": 8,
   "metadata": {},
   "outputs": [],
   "source": [
    "#Please note that sysmon EventID 1 does not contain sourceImage and TargetImage fields\n",
    "#As you can see, this data is not well structured, so lets parse this\n",
    "def parse_data(line):\n",
    "    arr = []\n",
    "    arr = line.split('\\n')\n",
    "    for val in arr:\n",
    "        if \"Image\" in val:\n",
    "            str = re.match(\"Image:\\s(.*)\",val)\n",
    "            return str.group(1)"
   ]
  },
  {
   "cell_type": "code",
   "execution_count": 9,
   "metadata": {},
   "outputs": [
    {
     "data": {
      "text/plain": [
       "'C:\\\\Program Files\\\\WindowsApps\\\\Microsoft.MicrosoftOfficeHub_18.1910.1283.0_x64__8wekyb3d8bbwe\\\\LocalBridge.exe'"
      ]
     },
     "execution_count": 9,
     "metadata": {},
     "output_type": "execute_result"
    }
   ],
   "source": [
    "#Lets make sure that our function is working as expected\n",
    "first = parse_data(proc_create.iloc[0]['Values'])\n",
    "first"
   ]
  },
  {
   "cell_type": "code",
   "execution_count": 10,
   "metadata": {},
   "outputs": [
    {
     "name": "stderr",
     "output_type": "stream",
     "text": [
      "/usr/local/lib/python3.6/dist-packages/ipykernel_launcher.py:4: SettingWithCopyWarning: \n",
      "A value is trying to be set on a copy of a slice from a DataFrame.\n",
      "Try using .loc[row_indexer,col_indexer] = value instead\n",
      "\n",
      "See the caveats in the documentation: https://pandas.pydata.org/pandas-docs/stable/user_guide/indexing.html#returning-a-view-versus-a-copy\n",
      "  after removing the cwd from sys.path.\n"
     ]
    },
    {
     "data": {
      "text/plain": [
       "Level                                                  Information\n",
       "Date and Time                                 4/2/2020 10:14:59 PM\n",
       "Source                                    Microsoft-Windows-Sysmon\n",
       "Event ID                                                         1\n",
       "Task Category                 Process Create (rule: ProcessCreate)\n",
       "Values           Process Create:\\nRuleName: \\nUtcTime: 2020-04-...\n",
       "Image            C:\\Program Files\\WindowsApps\\Microsoft.Microso...\n",
       "Name: 3, dtype: object"
      ]
     },
     "execution_count": 10,
     "metadata": {},
     "output_type": "execute_result"
    }
   ],
   "source": [
    "# Now, I am going to add a column to the dataframe and name it \"Image\". \n",
    "# The values for this field is populated by passing values in \"Values\" field and applying the parse_data function\n",
    "\n",
    "proc_create['Image'] = proc_create['Values'].apply(parse_data)\n",
    "proc_create.iloc[0]"
   ]
  },
  {
   "cell_type": "code",
   "execution_count": 11,
   "metadata": {},
   "outputs": [],
   "source": [
    "# You can ignore the warning above\n",
    "\n",
    "def parse_guid(line):\n",
    "    arr = []\n",
    "    arr = line.split('\\n')\n",
    "    for val in arr:\n",
    "        if \"ProcessGuid\" in val:\n",
    "            str = re.match(\"ProcessGuid:\\s(.*)\",val)\n",
    "            return str.group(1)"
   ]
  },
  {
   "cell_type": "code",
   "execution_count": 12,
   "metadata": {},
   "outputs": [
    {
     "name": "stderr",
     "output_type": "stream",
     "text": [
      "/usr/local/lib/python3.6/dist-packages/ipykernel_launcher.py:2: SettingWithCopyWarning: \n",
      "A value is trying to be set on a copy of a slice from a DataFrame.\n",
      "Try using .loc[row_indexer,col_indexer] = value instead\n",
      "\n",
      "See the caveats in the documentation: https://pandas.pydata.org/pandas-docs/stable/user_guide/indexing.html#returning-a-view-versus-a-copy\n",
      "  \n"
     ]
    },
    {
     "data": {
      "text/plain": [
       "Level                                                  Information\n",
       "Date and Time                                 4/2/2020 10:14:59 PM\n",
       "Source                                    Microsoft-Windows-Sysmon\n",
       "Event ID                                                         1\n",
       "Task Category                 Process Create (rule: ProcessCreate)\n",
       "Values           Process Create:\\nRuleName: \\nUtcTime: 2020-04-...\n",
       "Image            C:\\Program Files\\WindowsApps\\Microsoft.Microso...\n",
       "ProcessGuid                 {4ce97d7e-aa33-5e86-0000-0010b698ce01}\n",
       "Name: 3, dtype: object"
      ]
     },
     "execution_count": 12,
     "metadata": {},
     "output_type": "execute_result"
    }
   ],
   "source": [
    "#I am going to build a processGuid data for later use\n",
    "proc_create['ProcessGuid'] = proc_create['Values'].apply(parse_guid)\n",
    "proc_create.iloc[0]"
   ]
  },
  {
   "cell_type": "code",
   "execution_count": 13,
   "metadata": {},
   "outputs": [
    {
     "data": {
      "text/plain": [
       "Image\n",
       "C:\\Program Files (x86)\\LiteManagerFree - Server\\ROMFUSClient.exe                                                                 9\n",
       "C:\\Program Files (x86)\\LiteManagerFree - Server\\ROMServer.exe                                                                   10\n",
       "C:\\Program Files (x86)\\TeamViewer\\TeamViewer_Service.exe                                                                         6\n",
       "C:\\Program Files (x86)\\freeFTPd\\freeFTPdService.exe                                                                              8\n",
       "C:\\Program Files\\Autopsy-4.14.0\\autopsy\\ESEDatabaseView\\ESEDatabaseView.exe                                                      5\n",
       "                                                                                                                              ... \n",
       "C:\\Windows\\System32\\wsqmcons.exe                                                                                                55\n",
       "C:\\Windows\\WinSxS\\amd64_microsoft-windows-servicingstack_31bf3856ad364e35_10.0.18362.590_none_5efc551459114cb9\\TiWorker.exe    160\n",
       "C:\\Windows\\explorer.exe                                                                                                          6\n",
       "C:\\Windows\\servicing\\TrustedInstaller.exe                                                                                      161\n",
       "C:\\program.exe                                                                                                                   2\n",
       "Length: 147, dtype: int64"
      ]
     },
     "execution_count": 13,
     "metadata": {},
     "output_type": "execute_result"
    }
   ],
   "source": [
    "proc_create.groupby('Image').size()"
   ]
  },
  {
   "cell_type": "code",
   "execution_count": 14,
   "metadata": {},
   "outputs": [],
   "source": [
    "#[Note: here i am looking for literal string mimikatz.exe]\n",
    "#Lets see if there is any mimikatz here\n",
    "filter4 = proc_create['Image'].str.contains(\"mimikatz.exe\")\n",
    "proc_lsass = proc_create[filter4]"
   ]
  },
  {
   "cell_type": "code",
   "execution_count": 15,
   "metadata": {},
   "outputs": [
    {
     "data": {
      "text/html": [
       "<div>\n",
       "<style scoped>\n",
       "    .dataframe tbody tr th:only-of-type {\n",
       "        vertical-align: middle;\n",
       "    }\n",
       "\n",
       "    .dataframe tbody tr th {\n",
       "        vertical-align: top;\n",
       "    }\n",
       "\n",
       "    .dataframe thead th {\n",
       "        text-align: right;\n",
       "    }\n",
       "</style>\n",
       "<table border=\"1\" class=\"dataframe\">\n",
       "  <thead>\n",
       "    <tr style=\"text-align: right;\">\n",
       "      <th></th>\n",
       "      <th>Level</th>\n",
       "      <th>Date and Time</th>\n",
       "      <th>Source</th>\n",
       "      <th>Event ID</th>\n",
       "      <th>Task Category</th>\n",
       "      <th>Values</th>\n",
       "      <th>Image</th>\n",
       "      <th>ProcessGuid</th>\n",
       "    </tr>\n",
       "  </thead>\n",
       "  <tbody>\n",
       "    <tr>\n",
       "      <th>4589</th>\n",
       "      <td>Information</td>\n",
       "      <td>3/31/2020 4:40:39 PM</td>\n",
       "      <td>Microsoft-Windows-Sysmon</td>\n",
       "      <td>1</td>\n",
       "      <td>Process Create (rule: ProcessCreate)</td>\n",
       "      <td>Process Create:\\nRuleName: \\nUtcTime: 2020-03-...</td>\n",
       "      <td>C:\\Users\\rajnepali\\Desktop\\mimikatz_trunk\\x64\\...</td>\n",
       "      <td>{4ce97d7e-b8d7-5e83-0000-0010da962600}</td>\n",
       "    </tr>\n",
       "    <tr>\n",
       "      <th>4645</th>\n",
       "      <td>Information</td>\n",
       "      <td>3/31/2020 4:35:11 PM</td>\n",
       "      <td>Microsoft-Windows-Sysmon</td>\n",
       "      <td>1</td>\n",
       "      <td>Process Create (rule: ProcessCreate)</td>\n",
       "      <td>Process Create:\\nRuleName: \\nUtcTime: 2020-03-...</td>\n",
       "      <td>C:\\Users\\rajnepali\\Desktop\\mimikatz_trunk\\x64\\...</td>\n",
       "      <td>{4ce97d7e-b78f-5e83-0000-0010efb42300}</td>\n",
       "    </tr>\n",
       "    <tr>\n",
       "      <th>4666</th>\n",
       "      <td>Information</td>\n",
       "      <td>3/31/2020 4:34:18 PM</td>\n",
       "      <td>Microsoft-Windows-Sysmon</td>\n",
       "      <td>1</td>\n",
       "      <td>Process Create (rule: ProcessCreate)</td>\n",
       "      <td>Process Create:\\nRuleName: \\nUtcTime: 2020-03-...</td>\n",
       "      <td>C:\\Users\\rajnepali\\Desktop\\mimikatz_trunk\\x64\\...</td>\n",
       "      <td>{4ce97d7e-b75a-5e83-0000-00107bfa1600}</td>\n",
       "    </tr>\n",
       "  </tbody>\n",
       "</table>\n",
       "</div>"
      ],
      "text/plain": [
       "            Level         Date and Time                    Source  Event ID  \\\n",
       "4589  Information  3/31/2020 4:40:39 PM  Microsoft-Windows-Sysmon         1   \n",
       "4645  Information  3/31/2020 4:35:11 PM  Microsoft-Windows-Sysmon         1   \n",
       "4666  Information  3/31/2020 4:34:18 PM  Microsoft-Windows-Sysmon         1   \n",
       "\n",
       "                             Task Category  \\\n",
       "4589  Process Create (rule: ProcessCreate)   \n",
       "4645  Process Create (rule: ProcessCreate)   \n",
       "4666  Process Create (rule: ProcessCreate)   \n",
       "\n",
       "                                                 Values  \\\n",
       "4589  Process Create:\\nRuleName: \\nUtcTime: 2020-03-...   \n",
       "4645  Process Create:\\nRuleName: \\nUtcTime: 2020-03-...   \n",
       "4666  Process Create:\\nRuleName: \\nUtcTime: 2020-03-...   \n",
       "\n",
       "                                                  Image  \\\n",
       "4589  C:\\Users\\rajnepali\\Desktop\\mimikatz_trunk\\x64\\...   \n",
       "4645  C:\\Users\\rajnepali\\Desktop\\mimikatz_trunk\\x64\\...   \n",
       "4666  C:\\Users\\rajnepali\\Desktop\\mimikatz_trunk\\x64\\...   \n",
       "\n",
       "                                 ProcessGuid  \n",
       "4589  {4ce97d7e-b8d7-5e83-0000-0010da962600}  \n",
       "4645  {4ce97d7e-b78f-5e83-0000-0010efb42300}  \n",
       "4666  {4ce97d7e-b75a-5e83-0000-00107bfa1600}  "
      ]
     },
     "execution_count": 15,
     "metadata": {},
     "output_type": "execute_result"
    }
   ],
   "source": [
    "proc_lsass"
   ]
  },
  {
   "cell_type": "code",
   "execution_count": 16,
   "metadata": {},
   "outputs": [],
   "source": [
    "# I put this here in case you want to extract any fields that might be of interest. Example: Hashes :)\n",
    "\n",
    "def extract_field(line, string):\n",
    "    arr = []\n",
    "    arr = line.split('\\n')\n",
    "    for val in arr:\n",
    "        if string in val:\n",
    "            #lets write a regex to extract the absolute filename only\n",
    "            str1 = re.match(f\"{string}:\\s(.*)\",val)\n",
    "            return str1.group(1)"
   ]
  },
  {
   "cell_type": "code",
   "execution_count": 17,
   "metadata": {},
   "outputs": [],
   "source": [
    "data = proc_lsass.iloc[0]"
   ]
  },
  {
   "cell_type": "code",
   "execution_count": 18,
   "metadata": {},
   "outputs": [
    {
     "data": {
      "text/plain": [
       "'MD5=9CD25CEE26F115876F1592DCC63CC650,SHA256=ECE23612029589623E0AE27DA942440A9B0A9CD4F9681EC866613E64A247969D,IMPHASH=11433E8AD7B8D0937563D07A7F8C36E2'"
      ]
     },
     "execution_count": 18,
     "metadata": {},
     "output_type": "execute_result"
    }
   ],
   "source": [
    "Hash = extract_field(data['Values'],'Hashes')\n",
    "Hash"
   ]
  },
  {
   "cell_type": "code",
   "execution_count": 19,
   "metadata": {},
   "outputs": [],
   "source": [
    "# You can repeat the same process or add a field to the dataframe as your need"
   ]
  },
  {
   "cell_type": "markdown",
   "metadata": {},
   "source": [
    "# Lets take another approach\n",
    "### I prefer this approach as this has low false positive.\n",
    "\n",
    "This time we will take a look at suspicious processes accessing lsass.exe\n"
   ]
  },
  {
   "cell_type": "code",
   "execution_count": 20,
   "metadata": {},
   "outputs": [],
   "source": [
    "# Here we are looking for sysmon event ID 10\n",
    "\n",
    "filter5 = df['Event ID'] == 10\n",
    "proc_access = df[filter5]"
   ]
  },
  {
   "cell_type": "code",
   "execution_count": 21,
   "metadata": {},
   "outputs": [],
   "source": [
    "# Lets add sourceImage and TargetImage to the dataframe\n",
    "# This will be very useful for the analysis\n",
    "\n",
    "def parse_data_target(line):\n",
    "    arr = []\n",
    "    arr = line.split('\\n')\n",
    "    for val in arr:\n",
    "        if \"TargetImage\" in val:\n",
    "            #lets write a regex to extract the absolute filename only\n",
    "            str = re.match(\"TargetImage:\\s(.*)\",val)\n",
    "            return str.group(1)"
   ]
  },
  {
   "cell_type": "code",
   "execution_count": 22,
   "metadata": {},
   "outputs": [
    {
     "name": "stderr",
     "output_type": "stream",
     "text": [
      "/usr/local/lib/python3.6/dist-packages/ipykernel_launcher.py:1: SettingWithCopyWarning: \n",
      "A value is trying to be set on a copy of a slice from a DataFrame.\n",
      "Try using .loc[row_indexer,col_indexer] = value instead\n",
      "\n",
      "See the caveats in the documentation: https://pandas.pydata.org/pandas-docs/stable/user_guide/indexing.html#returning-a-view-versus-a-copy\n",
      "  \"\"\"Entry point for launching an IPython kernel.\n"
     ]
    }
   ],
   "source": [
    "proc_access['TargetImage'] = proc_access['Values'].apply(parse_data_target)"
   ]
  },
  {
   "cell_type": "code",
   "execution_count": 23,
   "metadata": {},
   "outputs": [],
   "source": [
    "def parse_data_source(line):\n",
    "    arr = []\n",
    "    arr = line.split('\\n')\n",
    "    for val in arr:\n",
    "        if \"SourceImage\" in val:\n",
    "            str = re.match(\"SourceImage:\\s(.*)\",val)\n",
    "            return str.group(1)"
   ]
  },
  {
   "cell_type": "code",
   "execution_count": 24,
   "metadata": {},
   "outputs": [
    {
     "name": "stderr",
     "output_type": "stream",
     "text": [
      "/usr/local/lib/python3.6/dist-packages/ipykernel_launcher.py:1: SettingWithCopyWarning: \n",
      "A value is trying to be set on a copy of a slice from a DataFrame.\n",
      "Try using .loc[row_indexer,col_indexer] = value instead\n",
      "\n",
      "See the caveats in the documentation: https://pandas.pydata.org/pandas-docs/stable/user_guide/indexing.html#returning-a-view-versus-a-copy\n",
      "  \"\"\"Entry point for launching an IPython kernel.\n"
     ]
    }
   ],
   "source": [
    "proc_access['SourceImage'] = proc_access['Values'].apply(parse_data_source)"
   ]
  },
  {
   "cell_type": "code",
   "execution_count": 25,
   "metadata": {},
   "outputs": [
    {
     "data": {
      "text/plain": [
       "Level                                                  Information\n",
       "Date and Time                                 4/2/2020 10:15:41 PM\n",
       "Source                                    Microsoft-Windows-Sysmon\n",
       "Event ID                                                        10\n",
       "Task Category               Process accessed (rule: ProcessAccess)\n",
       "Values           Process accessed:\\nRuleName: \\nUtcTime: 2020-0...\n",
       "TargetImage                          C:\\Windows\\system32\\lsass.exe\n",
       "SourceImage      C:\\ProgramData\\Microsoft\\Windows Defender\\plat...\n",
       "Name: 0, dtype: object"
      ]
     },
     "execution_count": 25,
     "metadata": {},
     "output_type": "execute_result"
    }
   ],
   "source": [
    "proc_access.iloc[0]"
   ]
  },
  {
   "cell_type": "code",
   "execution_count": 26,
   "metadata": {},
   "outputs": [
    {
     "data": {
      "text/plain": [
       "Level                                                  Information\n",
       "Date and Time                                 4/2/2020 10:15:41 PM\n",
       "Source                                    Microsoft-Windows-Sysmon\n",
       "Event ID                                                        10\n",
       "Task Category               Process accessed (rule: ProcessAccess)\n",
       "Values           Process accessed:\\nRuleName: \\nUtcTime: 2020-0...\n",
       "TargetImage                          C:\\Windows\\system32\\lsass.exe\n",
       "SourceImage      C:\\ProgramData\\Microsoft\\Windows Defender\\plat...\n",
       "Name: 0, dtype: object"
      ]
     },
     "execution_count": 26,
     "metadata": {},
     "output_type": "execute_result"
    }
   ],
   "source": [
    "#lets see all the processes that accessed lsass.exe\n",
    "filter6 = proc_access['TargetImage'] == \"C:\\Windows\\system32\\lsass.exe\"\n",
    "proc_access[filter6]\n",
    "proc_access.iloc[0]"
   ]
  },
  {
   "cell_type": "code",
   "execution_count": 27,
   "metadata": {},
   "outputs": [
    {
     "data": {
      "text/plain": [
       "SourceImage\n",
       "C:\\ProgramData\\Microsoft\\Windows Defender\\platform\\4.18.1911.3-0\\MsMpEng.exe    2822\n",
       "C:\\Users\\rajnepali\\Desktop\\mimikatz_trunk\\x64\\mimikatz.exe                         1\n",
       "C:\\Windows\\System32\\svchost.exe                                                    5\n",
       "C:\\Windows\\system32\\svchost.exe                                                  884\n",
       "C:\\Windows\\system32\\wbem\\wmiprvse.exe                                             40\n",
       "dtype: int64"
      ]
     },
     "execution_count": 27,
     "metadata": {},
     "output_type": "execute_result"
    }
   ],
   "source": [
    "proc_access.groupby('SourceImage').size()"
   ]
  },
  {
   "cell_type": "code",
   "execution_count": 28,
   "metadata": {},
   "outputs": [],
   "source": [
    "#Okay lets find out more, you could parse more fields as necessary\n",
    "\n",
    "filter8 = proc_access['SourceImage'] == r\"C:\\Users\\rajnepali\\Desktop\\mimikatz_trunk\\x64\\mimikatz.exe\"\n",
    "proc_mimikatz = proc_access[filter8]"
   ]
  },
  {
   "cell_type": "code",
   "execution_count": 29,
   "metadata": {},
   "outputs": [
    {
     "data": {
      "text/html": [
       "<div>\n",
       "<style scoped>\n",
       "    .dataframe tbody tr th:only-of-type {\n",
       "        vertical-align: middle;\n",
       "    }\n",
       "\n",
       "    .dataframe tbody tr th {\n",
       "        vertical-align: top;\n",
       "    }\n",
       "\n",
       "    .dataframe thead th {\n",
       "        text-align: right;\n",
       "    }\n",
       "</style>\n",
       "<table border=\"1\" class=\"dataframe\">\n",
       "  <thead>\n",
       "    <tr style=\"text-align: right;\">\n",
       "      <th></th>\n",
       "      <th>Level</th>\n",
       "      <th>Date and Time</th>\n",
       "      <th>Source</th>\n",
       "      <th>Event ID</th>\n",
       "      <th>Task Category</th>\n",
       "      <th>Values</th>\n",
       "      <th>TargetImage</th>\n",
       "      <th>SourceImage</th>\n",
       "    </tr>\n",
       "  </thead>\n",
       "  <tbody>\n",
       "    <tr>\n",
       "      <th>4588</th>\n",
       "      <td>Information</td>\n",
       "      <td>3/31/2020 4:40:56 PM</td>\n",
       "      <td>Microsoft-Windows-Sysmon</td>\n",
       "      <td>10</td>\n",
       "      <td>Process accessed (rule: ProcessAccess)</td>\n",
       "      <td>Process accessed:\\nRuleName: \\nUtcTime: 2020-0...</td>\n",
       "      <td>C:\\Windows\\system32\\lsass.exe</td>\n",
       "      <td>C:\\Users\\rajnepali\\Desktop\\mimikatz_trunk\\x64\\...</td>\n",
       "    </tr>\n",
       "  </tbody>\n",
       "</table>\n",
       "</div>"
      ],
      "text/plain": [
       "            Level         Date and Time                    Source  Event ID  \\\n",
       "4588  Information  3/31/2020 4:40:56 PM  Microsoft-Windows-Sysmon        10   \n",
       "\n",
       "                               Task Category  \\\n",
       "4588  Process accessed (rule: ProcessAccess)   \n",
       "\n",
       "                                                 Values  \\\n",
       "4588  Process accessed:\\nRuleName: \\nUtcTime: 2020-0...   \n",
       "\n",
       "                        TargetImage  \\\n",
       "4588  C:\\Windows\\system32\\lsass.exe   \n",
       "\n",
       "                                            SourceImage  \n",
       "4588  C:\\Users\\rajnepali\\Desktop\\mimikatz_trunk\\x64\\...  "
      ]
     },
     "execution_count": 29,
     "metadata": {},
     "output_type": "execute_result"
    }
   ],
   "source": [
    "proc_mimikatz"
   ]
  },
  {
   "cell_type": "markdown",
   "metadata": {},
   "source": [
    "# Okay, Now lets find the hash of this process so we can use it for correlation to running processes and analyze the data"
   ]
  },
  {
   "cell_type": "code",
   "execution_count": 30,
   "metadata": {},
   "outputs": [],
   "source": [
    "# We are going to use dataframe proc_lsass for this since this contains the guid. \n",
    "# But first lets get the guid for this process."
   ]
  },
  {
   "cell_type": "code",
   "execution_count": 31,
   "metadata": {},
   "outputs": [
    {
     "data": {
      "text/plain": [
       "'Process accessed:\\nRuleName: \\nUtcTime: 2020-03-31 21:40:56.714\\nSourceProcessGUID: {4ce97d7e-b8d7-5e83-0000-0010da962600}\\nSourceProcessId: 4288\\nSourceThreadId: 4320\\nSourceImage: C:\\\\Users\\\\rajnepali\\\\Desktop\\\\mimikatz_trunk\\\\x64\\\\mimikatz.exe\\nTargetProcessGUID: {4ce97d7e-b6ad-5e83-0000-001006b40000}\\nTargetProcessId: 604\\nTargetImage: C:\\\\Windows\\\\system32\\\\lsass.exe\\nGrantedAccess: 0x1010\\nCallTrace: C:\\\\Windows\\\\SYSTEM32\\\\ntdll.dll+9c584|C:\\\\Windows\\\\System32\\\\KERNELBASE.dll+2730e|C:\\\\Users\\\\rajnepali\\\\Desktop\\\\mimikatz_trunk\\\\x64\\\\mimikatz.exe+b5b7a|C:\\\\Users\\\\rajnepali\\\\Desktop\\\\mimikatz_trunk\\\\x64\\\\mimikatz.exe+b5ee1|C:\\\\Users\\\\rajnepali\\\\Desktop\\\\mimikatz_trunk\\\\x64\\\\mimikatz.exe+b5ab1|C:\\\\Users\\\\rajnepali\\\\Desktop\\\\mimikatz_trunk\\\\x64\\\\mimikatz.exe+83384|C:\\\\Users\\\\rajnepali\\\\Desktop\\\\mimikatz_trunk\\\\x64\\\\mimikatz.exe+831bc|C:\\\\Users\\\\rajnepali\\\\Desktop\\\\mimikatz_trunk\\\\x64\\\\mimikatz.exe+82f99|C:\\\\Users\\\\rajnepali\\\\Desktop\\\\mimikatz_trunk\\\\x64\\\\mimikatz.exe+bba79|C:\\\\Windows\\\\System32\\\\KERNEL32.DLL+17bd4|C:\\\\Windows\\\\SYSTEM32\\\\ntdll.dll+6ced1'"
      ]
     },
     "execution_count": 31,
     "metadata": {},
     "output_type": "execute_result"
    }
   ],
   "source": [
    "proc_mimikatz.iloc[0]['Values']"
   ]
  },
  {
   "cell_type": "code",
   "execution_count": 32,
   "metadata": {},
   "outputs": [
    {
     "data": {
      "text/plain": [
       "'{4ce97d7e-b8d7-5e83-0000-0010da962600}'"
      ]
     },
     "execution_count": 32,
     "metadata": {},
     "output_type": "execute_result"
    }
   ],
   "source": [
    "# Lets use extract field :)\n",
    "\n",
    "mimikatz_guid = extract_field(proc_mimikatz.iloc[0]['Values'],'SourceProcessGUID')\n",
    "mimikatz_guid"
   ]
  },
  {
   "cell_type": "code",
   "execution_count": 33,
   "metadata": {},
   "outputs": [],
   "source": [
    "#Now lets use this guid to find the hash from the proc_lsass dataframe from previous method\n",
    "\n",
    "filter9 = proc_lsass['ProcessGuid'] == \"{4ce97d7e-b8d7-5e83-0000-0010da962600}\"\n",
    "proc_suspicious = proc_lsass[filter9]"
   ]
  },
  {
   "cell_type": "code",
   "execution_count": 34,
   "metadata": {},
   "outputs": [
    {
     "data": {
      "text/html": [
       "<div>\n",
       "<style scoped>\n",
       "    .dataframe tbody tr th:only-of-type {\n",
       "        vertical-align: middle;\n",
       "    }\n",
       "\n",
       "    .dataframe tbody tr th {\n",
       "        vertical-align: top;\n",
       "    }\n",
       "\n",
       "    .dataframe thead th {\n",
       "        text-align: right;\n",
       "    }\n",
       "</style>\n",
       "<table border=\"1\" class=\"dataframe\">\n",
       "  <thead>\n",
       "    <tr style=\"text-align: right;\">\n",
       "      <th></th>\n",
       "      <th>Level</th>\n",
       "      <th>Date and Time</th>\n",
       "      <th>Source</th>\n",
       "      <th>Event ID</th>\n",
       "      <th>Task Category</th>\n",
       "      <th>Values</th>\n",
       "      <th>Image</th>\n",
       "      <th>ProcessGuid</th>\n",
       "    </tr>\n",
       "  </thead>\n",
       "  <tbody>\n",
       "    <tr>\n",
       "      <th>4589</th>\n",
       "      <td>Information</td>\n",
       "      <td>3/31/2020 4:40:39 PM</td>\n",
       "      <td>Microsoft-Windows-Sysmon</td>\n",
       "      <td>1</td>\n",
       "      <td>Process Create (rule: ProcessCreate)</td>\n",
       "      <td>Process Create:\\nRuleName: \\nUtcTime: 2020-03-...</td>\n",
       "      <td>C:\\Users\\rajnepali\\Desktop\\mimikatz_trunk\\x64\\...</td>\n",
       "      <td>{4ce97d7e-b8d7-5e83-0000-0010da962600}</td>\n",
       "    </tr>\n",
       "  </tbody>\n",
       "</table>\n",
       "</div>"
      ],
      "text/plain": [
       "            Level         Date and Time                    Source  Event ID  \\\n",
       "4589  Information  3/31/2020 4:40:39 PM  Microsoft-Windows-Sysmon         1   \n",
       "\n",
       "                             Task Category  \\\n",
       "4589  Process Create (rule: ProcessCreate)   \n",
       "\n",
       "                                                 Values  \\\n",
       "4589  Process Create:\\nRuleName: \\nUtcTime: 2020-03-...   \n",
       "\n",
       "                                                  Image  \\\n",
       "4589  C:\\Users\\rajnepali\\Desktop\\mimikatz_trunk\\x64\\...   \n",
       "\n",
       "                                 ProcessGuid  \n",
       "4589  {4ce97d7e-b8d7-5e83-0000-0010da962600}  "
      ]
     },
     "execution_count": 34,
     "metadata": {},
     "output_type": "execute_result"
    }
   ],
   "source": [
    "proc_suspicious"
   ]
  },
  {
   "cell_type": "code",
   "execution_count": 35,
   "metadata": {},
   "outputs": [
    {
     "data": {
      "text/plain": [
       "'MD5=9CD25CEE26F115876F1592DCC63CC650,SHA256=ECE23612029589623E0AE27DA942440A9B0A9CD4F9681EC866613E64A247969D,IMPHASH=11433E8AD7B8D0937563D07A7F8C36E2'"
      ]
     },
     "execution_count": 35,
     "metadata": {},
     "output_type": "execute_result"
    }
   ],
   "source": [
    "# Now lets use the extract_field function again :)\n",
    "\n",
    "proc_suspicious_hash = extract_field(proc_suspicious.iloc[0]['Values'],'Hashes')\n",
    "proc_suspicious_hash"
   ]
  },
  {
   "cell_type": "code",
   "execution_count": 36,
   "metadata": {},
   "outputs": [],
   "source": [
    "# You can submit this hash to Virustotal or something similar"
   ]
  },
  {
   "cell_type": "code",
   "execution_count": null,
   "metadata": {},
   "outputs": [],
   "source": []
  },
  {
   "cell_type": "code",
   "execution_count": null,
   "metadata": {},
   "outputs": [],
   "source": []
  }
 ],
 "metadata": {
  "kernelspec": {
   "display_name": "Python 3",
   "language": "python",
   "name": "python3"
  },
  "language_info": {
   "codemirror_mode": {
    "name": "ipython",
    "version": 3
   },
   "file_extension": ".py",
   "mimetype": "text/x-python",
   "name": "python",
   "nbconvert_exporter": "python",
   "pygments_lexer": "ipython3",
   "version": "3.6.9"
  }
 },
 "nbformat": 4,
 "nbformat_minor": 4
}
